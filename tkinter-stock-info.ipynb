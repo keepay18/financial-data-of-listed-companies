{
 "cells": [
  {
   "cell_type": "code",
   "execution_count": 1,
   "id": "309b4a95",
   "metadata": {},
   "outputs": [],
   "source": [
    "import tkinter as tk\n",
    "import yfinance as yf\n",
    "\n",
    "window = tk.Tk()\n",
    "window.title(\"Stock info\")\n",
    "\n",
    "top_widget = tk.Frame(window)\n",
    "label = tk.Label(top_widget, text=\"Write stock tiker:\")\n",
    "label.pack(side=tk.LEFT)\n",
    "entry = tk.Entry(top_widget)\n",
    "entry.pack(side=tk.RIGHT)\n",
    "top_widget.pack()\n",
    "\n",
    "scroll_bar = tk.Scrollbar(window)\n",
    "text_box = tk.Text(window, height=15, width=90, padx=5, pady=5, font=\"Helvetica 12\")\n",
    "\n",
    "scroll_bar.pack(side=tk.RIGHT, fill=tk.Y)\n",
    "text_box.pack(expand=True, fill=tk.BOTH)\n",
    "scroll_bar.config(command=text_box.yview)\n",
    "text_box.config(yscrollcommand=scroll_bar.set)\n",
    "\n",
    "\n",
    "def download_data(e):\n",
    "    text_box.delete(\"1.0\", tk.END)\n",
    "    stock = str(e.widget.get())\n",
    "    \n",
    "    if not stock:\n",
    "        print(\"no stock ticker\")\n",
    "        return\n",
    "    \n",
    "    stock = stock.upper().strip()\n",
    "        \n",
    "    stock_data = yf.Ticker(stock)\n",
    "        \n",
    "    text_box.insert(tk.END, \"Ticker: \" + stock + \" \\n\\n \")\n",
    "    \n",
    "    for key in stock_data.info.keys():\n",
    "        try:\n",
    "            v = str(key) + \": \" + stock_data.info[str(key)] + \" \\n\\n \"\n",
    "            text_box.insert(tk.END, v)\n",
    "        except:\n",
    "            pass\n",
    "        \n",
    "    \n",
    "    history = stock_data.history(period = \"1mo\", interval = \"1d\")\n",
    "    text_box.insert(tk.END, history)\n",
    "    \n",
    "    \n",
    "    \n",
    "entry.bind(\"<Return>\", download_data)\n",
    "\n",
    "window.mainloop()"
   ]
  },
  {
   "cell_type": "code",
   "execution_count": null,
   "id": "b582e818",
   "metadata": {},
   "outputs": [],
   "source": []
  }
 ],
 "metadata": {
  "kernelspec": {
   "display_name": "Python 3 (ipykernel)",
   "language": "python",
   "name": "python3"
  },
  "language_info": {
   "codemirror_mode": {
    "name": "ipython",
    "version": 3
   },
   "file_extension": ".py",
   "mimetype": "text/x-python",
   "name": "python",
   "nbconvert_exporter": "python",
   "pygments_lexer": "ipython3",
   "version": "3.9.7"
  }
 },
 "nbformat": 4,
 "nbformat_minor": 5
}
